{
 "cells": [
  {
   "cell_type": "code",
   "execution_count": 5,
   "id": "5642d745-4273-4e78-b0b5-6861ca5c1053",
   "metadata": {
    "execution": {
     "iopub.execute_input": "2024-10-24T08:44:26.369377Z",
     "iopub.status.busy": "2024-10-24T08:44:26.368920Z",
     "iopub.status.idle": "2024-10-24T08:44:29.404763Z",
     "shell.execute_reply": "2024-10-24T08:44:29.403839Z",
     "shell.execute_reply.started": "2024-10-24T08:44:26.369342Z"
    },
    "tags": []
   },
   "outputs": [
    {
     "name": "stdout",
     "output_type": "stream",
     "text": [
      "--2024-10-24 15:44:26--  https://jdbc.postgresql.org/download/postgresql-42.7.4.jar\n",
      "Resolving proxy.dp.vng.vn (proxy.dp.vng.vn)... 10.50.44.23\n",
      "Connecting to proxy.dp.vng.vn (proxy.dp.vng.vn)|10.50.44.23|:3128... connected.\n",
      "Proxy request sent, awaiting response... 200 OK\n",
      "Length: 1086687 (1.0M) [application/java-archive]\n",
      "Saving to: ‘/home/jovyan/jars/postgresql-42.7.4.jar’\n",
      "\n",
      "/home/jovyan/jars/p 100%[===================>]   1.04M   985KB/s    in 1.1s    \n",
      "\n",
      "2024-10-24 15:44:29 (985 KB/s) - ‘/home/jovyan/jars/postgresql-42.7.4.jar’ saved [1086687/1086687]\n",
      "\n"
     ]
    }
   ],
   "source": [
    "!mkdir -p /home/jovyan/jars\n",
    "!wget https://jdbc.postgresql.org/download/postgresql-42.7.4.jar -O /home/jovyan/jars/postgresql-42.7.4.jar"
   ]
  },
  {
   "cell_type": "code",
   "execution_count": 1,
   "id": "8f8278a5-f135-4815-bdbd-3b8a12777153",
   "metadata": {
    "execution": {
     "iopub.execute_input": "2024-10-24T08:43:19.695297Z",
     "iopub.status.busy": "2024-10-24T08:43:19.694842Z",
     "iopub.status.idle": "2024-10-24T08:43:22.082870Z",
     "shell.execute_reply": "2024-10-24T08:43:22.082133Z",
     "shell.execute_reply.started": "2024-10-24T08:43:19.695219Z"
    },
    "tags": []
   },
   "outputs": [
    {
     "name": "stdout",
     "output_type": "stream",
     "text": [
      "Found 5 items\n",
      "drwx------   - dp-ai-workspace-97ta9 dp-ai-workspace-97ta9          0 2022-12-08 19:00 .Trash\n",
      "drwxr-x---   - dp-ai-workspace-97ta9 dp-ai-workspace-97ta9          0 2024-10-24 14:09 .sparkStaging\n",
      "drwxr-x---   - dp-ai-workspace-97ta9 dp-ai-workspace-97ta9          0 2022-10-18 16:33 data\n",
      "drwxr-x---   - dp-ai-workspace-97ta9 dp-ai-workspace-97ta9          0 2024-05-28 16:08 env\n",
      "drwxr-x---   - dp-ai-workspace-97ta9 dp-ai-workspace-97ta9          0 2024-05-15 16:54 libs\n"
     ]
    }
   ],
   "source": [
    "!hdfs dfs -ls "
   ]
  },
  {
   "cell_type": "code",
   "execution_count": 3,
   "id": "92452af0-fba9-46f3-bd73-6dc5f9cdd116",
   "metadata": {
    "execution": {
     "iopub.execute_input": "2024-10-24T08:43:57.449007Z",
     "iopub.status.busy": "2024-10-24T08:43:57.448599Z",
     "iopub.status.idle": "2024-10-24T08:43:59.727062Z",
     "shell.execute_reply": "2024-10-24T08:43:59.725948Z",
     "shell.execute_reply.started": "2024-10-24T08:43:57.448980Z"
    },
    "tags": []
   },
   "outputs": [],
   "source": [
    "!hdfs dfs -mkdir jars "
   ]
  },
  {
   "cell_type": "code",
   "execution_count": 4,
   "id": "70c5f97a-ebc2-4c06-a1cc-6fefb676e897",
   "metadata": {
    "execution": {
     "iopub.execute_input": "2024-10-24T08:44:06.721333Z",
     "iopub.status.busy": "2024-10-24T08:44:06.720753Z",
     "iopub.status.idle": "2024-10-24T08:44:09.368132Z",
     "shell.execute_reply": "2024-10-24T08:44:09.367376Z",
     "shell.execute_reply.started": "2024-10-24T08:44:06.721299Z"
    },
    "tags": []
   },
   "outputs": [
    {
     "name": "stdout",
     "output_type": "stream",
     "text": [
      "Found 6 items\n",
      "drwx------   - dp-ai-workspace-97ta9 dp-ai-workspace-97ta9          0 2022-12-08 19:00 .Trash\n",
      "drwxr-x---   - dp-ai-workspace-97ta9 dp-ai-workspace-97ta9          0 2024-10-24 14:09 .sparkStaging\n",
      "drwxr-x---   - dp-ai-workspace-97ta9 dp-ai-workspace-97ta9          0 2022-10-18 16:33 data\n",
      "drwxr-x---   - dp-ai-workspace-97ta9 dp-ai-workspace-97ta9          0 2024-05-28 16:08 env\n",
      "drwxr-x---   - dp-ai-workspace-97ta9 dp-ai-workspace-97ta9          0 2024-10-24 15:43 jars\n",
      "drwxr-x---   - dp-ai-workspace-97ta9 dp-ai-workspace-97ta9          0 2024-05-15 16:54 libs\n"
     ]
    }
   ],
   "source": [
    "!hdfs dfs -ls"
   ]
  },
  {
   "cell_type": "code",
   "execution_count": 7,
   "id": "32032594-41a0-45ee-8f45-deda0c980f58",
   "metadata": {
    "execution": {
     "iopub.execute_input": "2024-10-24T08:44:51.477015Z",
     "iopub.status.busy": "2024-10-24T08:44:51.476534Z",
     "iopub.status.idle": "2024-10-24T08:44:54.838016Z",
     "shell.execute_reply": "2024-10-24T08:44:54.836707Z",
     "shell.execute_reply.started": "2024-10-24T08:44:51.476988Z"
    },
    "tags": []
   },
   "outputs": [],
   "source": [
    "!hdfs dfs -put -f /home/jovyan/jars/postgresql-42.7.4.jar jars/postgresql-42.7.4.jar"
   ]
  }
 ],
 "metadata": {
  "kernelspec": {
   "display_name": "Python 3 (ipykernel)",
   "language": "python",
   "name": "python3"
  },
  "language_info": {
   "codemirror_mode": {
    "name": "ipython",
    "version": 3
   },
   "file_extension": ".py",
   "mimetype": "text/x-python",
   "name": "python",
   "nbconvert_exporter": "python",
   "pygments_lexer": "ipython3",
   "version": "3.8.15"
  }
 },
 "nbformat": 4,
 "nbformat_minor": 5
}
