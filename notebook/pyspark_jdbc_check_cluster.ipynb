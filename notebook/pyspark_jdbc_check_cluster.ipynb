{
 "cells": [
  {
   "cell_type": "code",
   "execution_count": 2,
   "id": "e7174c46-095f-4668-b46d-784b94fd28f0",
   "metadata": {
    "execution": {
     "iopub.execute_input": "2024-10-24T08:46:18.025528Z",
     "iopub.status.busy": "2024-10-24T08:46:18.025038Z",
     "iopub.status.idle": "2024-10-24T08:46:18.033903Z",
     "shell.execute_reply": "2024-10-24T08:46:18.033255Z",
     "shell.execute_reply.started": "2024-10-24T08:46:18.025493Z"
    },
    "tags": []
   },
   "outputs": [],
   "source": [
    "import json\n",
    "import pyspark\n",
    "from pyspark.sql import SparkSession\n",
    "\n",
    "cfg = json.load(open('cred.json'))\n",
    "DBUSER = cfg.get('Connect DB')['DBUSER']\n",
    "DBPASS = cfg.get('Connect DB')['DBPASS']\n",
    "DBHOST = cfg.get('Connect DB')['DBHOST']\n",
    "DBPORT = cfg.get('Connect DB')['DBPORT']\n",
    "DBNAME = cfg.get('Connect DB')['DBNAME']\n",
    "\n",
    "jar_path = \"hdfs://jars/postgresql-42.7.4.jar\"\n",
    "\n",
    "spark = SparkSession.builder \\\n",
    "    .master(\"local[*]\") \\\n",
    "    .appName(\"SparkByExamples.com\") \\\n",
    "    .config(\"spark.jars\", jar_path) \\\n",
    "    .config(\"spark.driver.extraClassPath\", jar_path) \\\n",
    "    .getOrCreate()"
   ]
  },
  {
   "cell_type": "code",
   "execution_count": 3,
   "id": "cc3034d4-30cb-480e-94ad-2a496c4796a2",
   "metadata": {
    "execution": {
     "iopub.execute_input": "2024-10-24T08:46:26.416135Z",
     "iopub.status.busy": "2024-10-24T08:46:26.415691Z",
     "iopub.status.idle": "2024-10-24T08:46:26.421315Z",
     "shell.execute_reply": "2024-10-24T08:46:26.420688Z",
     "shell.execute_reply.started": "2024-10-24T08:46:26.416108Z"
    },
    "tags": []
   },
   "outputs": [],
   "source": [
    "def write_by_jdbc(sdf, db_table_name,  cfg):\n",
    "    DBUSER = cfg.get('Connect DB')['DBUSER']\n",
    "    DBPASS = cfg.get('Connect DB')['DBPASS']\n",
    "    DBHOST = cfg.get('Connect DB')['DBHOST']\n",
    "    DBPORT = cfg.get('Connect DB')['DBPORT']\n",
    "    DBNAME = cfg.get('Connect DB')['DBNAME']\n",
    "    \n",
    "    sdf.write.format(\"jdbc\") \\\n",
    "    .mode(\"overwrite\") \\\n",
    "    .option(\"url\", \"jdbc:postgresql://{DBHOST}:{DBPORT}/{DBNAME}\".format(DBHOST = DBHOST, DBPORT=DBPORT, DBNAME=DBNAME)) \\\n",
    "    .option(\"dbtable\", db_table_name) \\\n",
    "    .option(\"user\", DBUSER) \\\n",
    "    .option(\"password\", DBPASS) \\\n",
    "    .option(\"driver\", 'org.postgresql.Driver')\\\n",
    "    .save()"
   ]
  },
  {
   "cell_type": "code",
   "execution_count": 4,
   "id": "b8835ca8-f73c-4a54-aa7a-145734c5a2bd",
   "metadata": {
    "execution": {
     "iopub.execute_input": "2024-10-24T08:46:27.512931Z",
     "iopub.status.busy": "2024-10-24T08:46:27.512478Z",
     "iopub.status.idle": "2024-10-24T08:46:31.736012Z",
     "shell.execute_reply": "2024-10-24T08:46:31.735191Z",
     "shell.execute_reply.started": "2024-10-24T08:46:27.512904Z"
    },
    "scrolled": true,
    "tags": []
   },
   "outputs": [
    {
     "name": "stderr",
     "output_type": "stream",
     "text": [
      "                                                                                \r"
     ]
    }
   ],
   "source": [
    "db_table_name = \"public.tmp_random_data\"\n",
    "N = 100\n",
    "# create dataframe random\n",
    "df = spark.range(N)\n",
    "sdf = df.selectExpr(\"id as id\")\n",
    "write_by_jdbc(sdf, db_table_name, cfg)"
   ]
  },
  {
   "cell_type": "code",
   "execution_count": 5,
   "id": "5b9954ec-4b65-4856-9c65-5a57491be247",
   "metadata": {
    "execution": {
     "iopub.execute_input": "2024-10-24T08:46:33.989939Z",
     "iopub.status.busy": "2024-10-24T08:46:33.989520Z",
     "iopub.status.idle": "2024-10-24T08:46:34.326739Z",
     "shell.execute_reply": "2024-10-24T08:46:34.325764Z",
     "shell.execute_reply.started": "2024-10-24T08:46:33.989913Z"
    },
    "tags": []
   },
   "outputs": [
    {
     "name": "stdout",
     "output_type": "stream",
     "text": [
      "+---+\n",
      "| id|\n",
      "+---+\n",
      "|  0|\n",
      "|  1|\n",
      "|  2|\n",
      "|  3|\n",
      "|  4|\n",
      "|  5|\n",
      "|  6|\n",
      "|  7|\n",
      "|  8|\n",
      "|  9|\n",
      "| 10|\n",
      "| 11|\n",
      "| 12|\n",
      "| 13|\n",
      "| 14|\n",
      "| 15|\n",
      "| 16|\n",
      "| 17|\n",
      "| 18|\n",
      "| 19|\n",
      "+---+\n",
      "only showing top 20 rows\n",
      "\n"
     ]
    }
   ],
   "source": [
    "query_stmt = f\"select * from {db_table_name}\"\n",
    "# create dataframe\n",
    "df = spark.read.format(\"jdbc\") \\\n",
    "    .option(\"url\", f\"jdbc:postgresql://{DBHOST}:{DBPORT}/{DBNAME}\") \\\n",
    "    .option(\"query\", query_stmt) \\\n",
    "    .option(\"user\", DBUSER) \\\n",
    "    .option(\"password\", DBPASS) \\\n",
    "    .load()\n",
    " \n",
    "df.show()"
   ]
  }
 ],
 "metadata": {
  "kernelspec": {
   "display_name": "pyspark-local",
   "language": "python",
   "name": "spark_local"
  },
  "language_info": {
   "codemirror_mode": {
    "name": "ipython",
    "version": 3
   },
   "file_extension": ".py",
   "mimetype": "text/x-python",
   "name": "python",
   "nbconvert_exporter": "python",
   "pygments_lexer": "ipython3",
   "version": "3.8.0"
  }
 },
 "nbformat": 4,
 "nbformat_minor": 5
}
