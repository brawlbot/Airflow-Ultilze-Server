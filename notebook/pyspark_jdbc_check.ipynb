{
 "cells": [
  {
   "cell_type": "code",
   "execution_count": 1,
   "id": "dea792f9-a182-4ef9-acf7-5ba8f7820f0e",
   "metadata": {
    "execution": {
     "iopub.execute_input": "2024-10-24T07:51:12.925402Z",
     "iopub.status.busy": "2024-10-24T07:51:12.924888Z",
     "iopub.status.idle": "2024-10-24T07:51:12.972801Z",
     "shell.execute_reply": "2024-10-24T07:51:12.971650Z",
     "shell.execute_reply.started": "2024-10-24T07:51:12.925374Z"
    },
    "tags": []
   },
   "outputs": [
    {
     "name": "stdout",
     "output_type": "stream",
     "text": [
      "[('pg_stat_statements_info',), ('pg_stat_statements',), ('random_data',), ('random_table',)]\n"
     ]
    }
   ],
   "source": [
    "# !mkdir -p /home/jovyan/jars\n",
    "# !wget https://jdbc.postgresql.org/download/postgresql-42.7.4.jar -O /home/jovyan/jars/postgresql-42.7.4.jar\n",
    "# pip install gspread\n",
    "# import gspread\n",
    "# gspread.__version__\n",
    "import json\n",
    "cfg = json.load(open('cred.json'))\n",
    "\n",
    "DBUSER = cfg.get('Connect DB')['DBUSER']\n",
    "DBPASS = cfg.get('Connect DB')['DBPASS']\n",
    "DBHOST = cfg.get('Connect DB')['DBHOST']\n",
    "DBPORT = cfg.get('Connect DB')['DBPORT']\n",
    "DBNAME = cfg.get('Connect DB')['DBNAME']\n",
    "\n",
    "import psycopg2\n",
    "conn = psycopg2.connect(f\"host={DBHOST} dbname={DBNAME} user={DBUSER} password={DBPASS} port={DBPORT}\")\n",
    "# conn.close()\n",
    "cursor = conn.cursor()\n",
    "sql_stmt = \"select table_name from information_schema.tables where table_schema = 'public'\"\n",
    "cursor.execute(sql_stmt)\n",
    "tables = cursor.fetchall()\n",
    "print(tables)\n",
    "cursor.close()\n",
    "conn.close()"
   ]
  },
  {
   "cell_type": "code",
   "execution_count": 3,
   "id": "e7174c46-095f-4668-b46d-784b94fd28f0",
   "metadata": {
    "execution": {
     "iopub.execute_input": "2024-10-24T07:52:06.505675Z",
     "iopub.status.busy": "2024-10-24T07:52:06.505155Z",
     "iopub.status.idle": "2024-10-24T07:52:10.457161Z",
     "shell.execute_reply": "2024-10-24T07:52:10.456384Z",
     "shell.execute_reply.started": "2024-10-24T07:52:06.505625Z"
    },
    "tags": []
   },
   "outputs": [
    {
     "name": "stderr",
     "output_type": "stream",
     "text": [
      "[Stage 0:>                                                          (0 + 1) / 1]\r"
     ]
    },
    {
     "name": "stdout",
     "output_type": "stream",
     "text": [
      "+--------------------+\n",
      "|          table_name|\n",
      "+--------------------+\n",
      "|pg_stat_statement...|\n",
      "|  pg_stat_statements|\n",
      "|         random_data|\n",
      "|        random_table|\n",
      "+--------------------+\n",
      "\n"
     ]
    },
    {
     "name": "stderr",
     "output_type": "stream",
     "text": [
      "                                                                                \r"
     ]
    }
   ],
   "source": [
    "import pyspark\n",
    "from pyspark.sql import SparkSession\n",
    "DBUSER = cfg.get('Connect DB')['DBUSER']\n",
    "DBPASS = cfg.get('Connect DB')['DBPASS']\n",
    "DBHOST = cfg.get('Connect DB')['DBHOST']\n",
    "DBPORT = cfg.get('Connect DB')['DBPORT']\n",
    "DBNAME = cfg.get('Connect DB')['DBNAME']\n",
    "spark = SparkSession.builder \\\n",
    "    .master(\"local[*]\") \\\n",
    "    .appName(\"SparkByExamples.com\") \\\n",
    "    .config(\"spark.jars\", \"/home/jovyan/jars/postgresql-42.7.4.jar\") \\\n",
    "    .config(\"spark.driver.extraClassPath\", \"/home/jovyan/jars/postgresql-42.7.4.jar\") \\\n",
    "    .getOrCreate()"
   ]
  },
  {
   "cell_type": "code",
   "execution_count": 4,
   "id": "cc3034d4-30cb-480e-94ad-2a496c4796a2",
   "metadata": {
    "execution": {
     "iopub.execute_input": "2024-10-24T07:53:18.895154Z",
     "iopub.status.busy": "2024-10-24T07:53:18.894707Z",
     "iopub.status.idle": "2024-10-24T07:53:18.900781Z",
     "shell.execute_reply": "2024-10-24T07:53:18.900088Z",
     "shell.execute_reply.started": "2024-10-24T07:53:18.895124Z"
    },
    "tags": []
   },
   "outputs": [],
   "source": [
    "def write_by_jdbc(sdf, db_table_name,  cfg):\n",
    "    DBUSER = cfg.get('Connect DB')['DBUSER']\n",
    "    DBPASS = cfg.get('Connect DB')['DBPASS']\n",
    "    DBHOST = cfg.get('Connect DB')['DBHOST']\n",
    "    DBPORT = cfg.get('Connect DB')['DBPORT']\n",
    "    DBNAME = cfg.get('Connect DB')['DBNAME']\n",
    "    \n",
    "    sdf.write.format(\"jdbc\") \\\n",
    "    .mode(\"overwrite\") \\\n",
    "    .option(\"url\", \"jdbc:postgresql://{DBHOST}:{DBPORT}/{DBNAME}\".format(DBHOST = DBHOST, DBPORT=DBPORT, DBNAME=DBNAME)) \\\n",
    "    .option(\"dbtable\", db_table_name) \\\n",
    "    .option(\"user\", DBUSER) \\\n",
    "    .option(\"password\", DBPASS) \\\n",
    "    .option(\"driver\", 'org.postgresql.Driver')\\\n",
    "    .save()"
   ]
  },
  {
   "cell_type": "code",
   "execution_count": 6,
   "id": "b8835ca8-f73c-4a54-aa7a-145734c5a2bd",
   "metadata": {
    "execution": {
     "iopub.execute_input": "2024-10-24T07:57:49.705496Z",
     "iopub.status.busy": "2024-10-24T07:57:49.704882Z",
     "iopub.status.idle": "2024-10-24T07:57:50.705534Z",
     "shell.execute_reply": "2024-10-24T07:57:50.704294Z",
     "shell.execute_reply.started": "2024-10-24T07:57:49.705462Z"
    },
    "scrolled": true,
    "tags": []
   },
   "outputs": [],
   "source": [
    "db_table_name = \"public.tmp_random_data\"\n",
    "N = 100\n",
    "# create dataframe random\n",
    "df = spark.range(N)\n",
    "sdf = df.selectExpr(\"id as id\")\n",
    "write_by_jdbc(sdf, db_table_name, cfg)"
   ]
  },
  {
   "cell_type": "code",
   "execution_count": 7,
   "id": "5b9954ec-4b65-4856-9c65-5a57491be247",
   "metadata": {
    "execution": {
     "iopub.execute_input": "2024-10-24T07:58:33.178200Z",
     "iopub.status.busy": "2024-10-24T07:58:33.177653Z",
     "iopub.status.idle": "2024-10-24T07:58:33.390236Z",
     "shell.execute_reply": "2024-10-24T07:58:33.389178Z",
     "shell.execute_reply.started": "2024-10-24T07:58:33.178170Z"
    },
    "tags": []
   },
   "outputs": [
    {
     "name": "stdout",
     "output_type": "stream",
     "text": [
      "+---+\n",
      "| id|\n",
      "+---+\n",
      "|  0|\n",
      "|  1|\n",
      "|  2|\n",
      "|  3|\n",
      "|  4|\n",
      "|  5|\n",
      "|  6|\n",
      "|  7|\n",
      "|  8|\n",
      "|  9|\n",
      "| 10|\n",
      "| 11|\n",
      "| 12|\n",
      "| 13|\n",
      "| 14|\n",
      "| 15|\n",
      "| 16|\n",
      "| 17|\n",
      "| 18|\n",
      "| 19|\n",
      "+---+\n",
      "only showing top 20 rows\n",
      "\n"
     ]
    }
   ],
   "source": [
    "query_stmt = f\"select * from {db_table_name}\"\n",
    "# create dataframe\n",
    "df = spark.read.format(\"jdbc\") \\\n",
    "    .option(\"url\", f\"jdbc:postgresql://{DBHOST}:{DBPORT}/{DBNAME}\") \\\n",
    "    .option(\"query\", query_stmt) \\\n",
    "    .option(\"user\", DBUSER) \\\n",
    "    .option(\"password\", DBPASS) \\\n",
    "    .load()\n",
    " \n",
    "df.show()"
   ]
  }
 ],
 "metadata": {
  "kernelspec": {
   "display_name": "pyspark-local",
   "language": "python",
   "name": "spark_local"
  },
  "language_info": {
   "codemirror_mode": {
    "name": "ipython",
    "version": 3
   },
   "file_extension": ".py",
   "mimetype": "text/x-python",
   "name": "python",
   "nbconvert_exporter": "python",
   "pygments_lexer": "ipython3",
   "version": "3.8.0"
  }
 },
 "nbformat": 4,
 "nbformat_minor": 5
}
